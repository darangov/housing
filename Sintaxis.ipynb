{
 "cells": [
  {
   "cell_type": "markdown",
   "metadata": {},
   "source": [
    "#### plt.subplots()\n",
    "--------\n",
    "\n",
    "plt.subplots() is a function that returns a tuple containing a figure and axes object(s). \n",
    "Thus when using fig, ax = plt.subplots() you unpack this tuple into the variables fig and ax. Having fig is useful if you want to change figure-level attributes or save the figure as an image file later (e.g. with fig.savefig('yourfilename.png')). You certainly don't have to use the returned figure object but many people do use it later so it's common to see. Also, all axes objects (the objects that have plotting methods), have a parent figure object anyway, thus:\n",
    "\n",
    "fig, ax = plt.subplots()\n",
    "\n",
    "is more concise than this:\n",
    "\n",
    "fig = plt.figure()\n",
    "\n",
    "ax = fig.add_subplot(111)"
   ]
  },
  {
   "cell_type": "markdown",
   "metadata": {},
   "source": [
    "### seaborn.pairplot\n",
    "\n",
    "seaborn.pairplot(data, hue=None, hue_order=None, palette=None, vars=None, x_vars=None, y_vars=None, kind='scatter', diag_kind='auto', markers=None, height=2.5, aspect=1, dropna=True, plot_kws=None, diag_kws=None, grid_kws=None, size=None)\n",
    "Plot pairwise relationships in a dataset.\n",
    "\n",
    "By default, this function will create a grid of Axes such that each variable in data will by shared in the y-axis across a single row and in the x-axis across a single column. The diagonal Axes are treated differently, drawing a plot to show the univariate distribution of the data for the variable in that column.\n",
    "\n",
    "It is also possible to show a subset of variables or plot different variables on the rows and columns.\n",
    "\n",
    "This is a high-level interface for PairGrid that is intended to make it easy to draw a few common styles. You should use PairGrid directly if you need more flexibility."
   ]
  },
  {
   "cell_type": "markdown",
   "metadata": {},
   "source": [
    "# Metodo init\n",
    "El objetivo fundamental del método init es inicializar los atributos del objeto que creamos.\n",
    "\n",
    "Las ventajas de implementar el método init en lugar del método inicializar son:\n",
    "\n",
    "El método init es el primer método que se ejecuta cuando se crea un objeto. El método init se llama automáticamente. Es decir es imposible de olvidarse de llamarlo ya que se llamará automáticamente. Quien utiliza POO en Python (Programación Orientada a Objetos) conoce el objetivo de este método. Otras características del método init son:\n",
    "\n",
    "Se ejecuta inmediatamente luego de crear un objeto. El método init no puede retornar dato. el método init puede recibir parámetros que se utilizan normalmente para inicializar atributos. El método init es un método opcional, de todos modos es muy común declararlo.\n",
    "\n",
    "Veamos la sintaxis del constructor:\n",
    "\n",
    "def init([parámetros]): [algoritmo]\n",
    "\n",
    "Confeccionar una clase que represente un empleado. Definir como atributos su nombre y su sueldo. En el método init cargar los atributos por teclado y luego en otro método imprimir sus datos y por último uno que imprima un mensaje si debe pagar impuestos (si el sueldo supera a 3000)\n",
    "class Empleado:\n",
    "\n",
    "-- Definimos el método init donde cargamos por teclado el nombre del empleado y su sueldo:\n",
    "\n",
    "def init(self): self.nombre=input(\"Ingrese el nombre del empleado:\") self.sueldo=float(input(\"Ingrese el sueldo:\"))\n",
    "\n",
    "def imprimir(self): print(\"Nombre:\",self.nombre) print(\"Sueldo:\",self.sueldo)\n",
    "\n",
    "def paga_impuestos(self): if self.sueldo>3000: print(\"Debe pagar impuestos\") else: print(\"No paga impuestos\")\n",
    "\n",
    "bloque principal\n",
    "Este método (init) se ejecuta inmediatamente luego que se crea un objeto de la clase Empleado:\n",
    "\n",
    "empleado1=Empleado()\n",
    "\n",
    "empleado1.imprimir()\n",
    "\n",
    "empleado1.paga_impuestos()"
   ]
  },
  {
   "cell_type": "markdown",
   "metadata": {},
   "source": [
    "## '__init__'\n",
    "\n",
    "#### Desarrollar una clase que represente un punto en el plano y tenga los siguientes métodos: inicializar los valores de x e y que llegan como parámetros, imprimir en que cuadrante se encuentra dicho punto (concepto matemático, primer cuadrante si x e y son positivas, si x<0 e y>0 segundo cuadrante, etc.)\n",
    "\n",
    "\n",
    "class Punto:\n",
    "\n",
    "-- En este problema el método __init__ aparte del parámetro self que siempre va tenemos otros dos parámetros:\n",
    "\n",
    "    def __init__(self,x,y):\n",
    "        self.x=x\n",
    "        self.y=y\n",
    "\n",
    "    def imprimir(self):\n",
    "        print(\"Coordenada del punto\")\n",
    "        print(\"(\",self.x,\",\",self.y,\")\")\n",
    "\n",
    "    def imprimir_cuadrante(self):\n",
    "        if self.x>0 and self.y>0:\n",
    "            print(\"Primer cuadrange\")\n",
    "        else:\n",
    "            if self.x<0 and self.y>0:\n",
    "                print(\"Segundo cuadrante\")\n",
    "            else:\n",
    "                if self.x<0 and self.y<0:\n",
    "                    print(\"Tercer cuadrante\")\n",
    "                else:\n",
    "                    if self.x>0 and self.y<0:\n",
    "                        print(\"Cuarto cuadrante\")\n",
    "\n",
    "\n",
    "#### bloque principal\n",
    "Desde el bloque principal donde creamos un objeto de la clase Punto pasamos los datos a los parámetros:\n",
    "\n",
    "##### Recordemos que pasamos dos parámetros aunque el método __init__ recibe 3. El parámetro self recibe la referencia de la variable punto1 (es decir el objeto propiamente dicho)\n",
    "\n",
    "punto1=Punto(10,-2)\n",
    "\n",
    "punto1.imprimir()\n",
    "\n",
    "punto1.imprimir_cuadrante()\n"
   ]
  },
  {
   "cell_type": "code",
   "execution_count": null,
   "metadata": {},
   "outputs": [],
   "source": []
  }
 ],
 "metadata": {
  "kernelspec": {
   "display_name": "Python 3",
   "language": "python",
   "name": "python3"
  },
  "language_info": {
   "codemirror_mode": {
    "name": "ipython",
    "version": 3
   },
   "file_extension": ".py",
   "mimetype": "text/x-python",
   "name": "python",
   "nbconvert_exporter": "python",
   "pygments_lexer": "ipython3",
   "version": "3.7.3"
  }
 },
 "nbformat": 4,
 "nbformat_minor": 2
}
